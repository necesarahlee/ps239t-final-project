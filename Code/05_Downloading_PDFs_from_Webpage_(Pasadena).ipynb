{
 "cells": [
  {
   "cell_type": "markdown",
   "metadata": {},
   "source": [
    "# Pasadena Church"
   ]
  },
  {
   "cell_type": "markdown",
   "metadata": {},
   "source": [
    "## The Task:\n",
    "\n",
    "Find all the pdf links to sermon transcripts on this webpage, and then download them all. http://www.pasadenacommunitychurch.org/sermons/sermon-transcripts"
   ]
  },
  {
   "cell_type": "markdown",
   "metadata": {},
   "source": [
    "## The Tools:\n",
    "\n",
    "1. [Requests](http://docs.python-requests.org/en/latest/user/quickstart/)\n",
    "2. [Beautiful Soup](http://www.crummy.com/software/BeautifulSoup/bs4/doc/)\n",
    "3. urllib and csv modules"
   ]
  },
  {
   "cell_type": "code",
   "execution_count": 1,
   "metadata": {
    "collapsed": false
   },
   "outputs": [],
   "source": [
    "# import required modules\n",
    "import requests\n",
    "import csv\n",
    "import urllib\n",
    "from bs4 import BeautifulSoup"
   ]
  },
  {
   "cell_type": "markdown",
   "metadata": {},
   "source": [
    "## Step 1: Make a Get Request and Read in HTML\n",
    "\n",
    "1. make a GET request to the page\n",
    "2. read in the html of the page"
   ]
  },
  {
   "cell_type": "code",
   "execution_count": 2,
   "metadata": {
    "collapsed": false
   },
   "outputs": [],
   "source": [
    "# make a GET request\n",
    "req = requests.get('http://www.pasadenacommunitychurch.org/sermons/sermon-transcripts')\n",
    "# read the content of the server’s response\n",
    "src = req.text"
   ]
  },
  {
   "cell_type": "markdown",
   "metadata": {},
   "source": [
    "## Step 2: Soup it\n",
    "\n",
    "Now we use the `BeautifulSoup` function to parse the reponse into an HTML tree, which contains all of the HTML in the original document."
   ]
  },
  {
   "cell_type": "code",
   "execution_count": 10,
   "metadata": {
    "collapsed": false
   },
   "outputs": [
    {
     "name": "stdout",
     "output_type": "stream",
     "text": [
      "heet\" type=\"text/css\"/>\n",
      "  <!--[if lt IE 9]>\n",
      "\t<script src=\"http://www.pasadenacommunitychurch.org/wp-content/themes/pcc/js/html5.js\"></script>\n",
      "\t<![endif]-->\n",
      "  <script>\n",
      "   // Picture element HTML5 shiv\n",
      "\t\tdocument.createElement( \"picture\" );\n",
      "  </script>\n",
      "  <script async=\"\" src=\"http://www.pasadenacommunitychurch.org/wp-content/themes/pcc/js/vendor/picturefill.min.js\">\n",
      "  </script>\n",
      "  <link href=\"http://www.pasadenacommunitychurch.org/./sermons/sermon-transcripts/feed\" rel=\"alternate\" title=\"Pasadena Community Church » Sermon Transcripts Category Feed\" type=\"application/rss+xml\"/>\n",
      "  <script type=\"text/javascript\">\n",
      "   window._wpemojiSettings = {\"baseUrl\":\"http:\\/\\/s.w.org\\/images\\/core\\/emoji\\/72x72\\/\",\"ext\":\".png\",\"source\":{\"concatemoji\":\"http:\\/\\/www.pasadenacommunitychurch.org\\/wp-includes\\/js\\/wp-emoji-release.min.js?ver=4.4\"}};\n",
      "\t\t\t!function(a,b,c){function d(a){var c=b.createElement(\"canvas\"),d=c.getContext&&c.getContext(\"2d\");return d&&d.fillText?(d.textBaseline=\"top\",d.font=\"600 32px Ar\n"
     ]
    }
   ],
   "source": [
    "# parse the response into an HTML tree\n",
    "soup = BeautifulSoup(src)\n",
    "# take a look\n",
    "print soup.prettify()[1000:2000]"
   ]
  },
  {
   "cell_type": "code",
   "execution_count": 18,
   "metadata": {
    "collapsed": false
   },
   "outputs": [
    {
     "data": {
      "text/plain": [
       "[<a class=\"navbar-brand\" href=\"http://www.pasadenacommunitychurch.org/\" rel=\"home\" title=\"Pasadena Community Church\">Pasadena Community Church</a>,\n",
       " <a class=\"dropdown-toggle \" data-target=\"#\" data-toggle=\"dropdown\" href=\"http://www.pasadenacommunitychurch.org/sermons\">Sermons<span class=\"desc\">Watch Sermons</span></a>,\n",
       " <a href=\"http://www.pasadenacommunitychurch.org/./sermons\">Sermons</a>,\n",
       " <a href=\"#\">Divider</a>,\n",
       " <a href=\"http://www.pasadenacommunitychurch.org/./sermons/sermon-transcripts\">Sermon Transcripts</a>,\n",
       " <a href=\"http://www.pasadenacommunitychurch.org/./sermons/upcoming-sermons\">Upcoming Sermons</a>,\n",
       " <a href=\"http://www.pasadenacommunitychurch.org/sermons/watch-videos.html\">Watch Videos</a>,\n",
       " <a href=\"http://www.pasadenacommunitychurch.org/./sermons/archive-sermon-videos\">Archive Sermon Videos</a>,\n",
       " <a class=\"dropdown-toggle\" data-target=\"#\" data-toggle=\"dropdown\" href=\"http://www.pasadenacommunitychurch.org/ministries.html\">Ministries<span class=\"desc\">Connect . Grow . Serve</span></a>,\n",
       " <a href=\"http://www.pasadenacommunitychurch.org/ministries.html\">Our Ministries</a>,\n",
       " <a href=\"http://www.pasadenacommunitychurch.org/children-youth/childrens-ministries.html\">Children’s Ministries</a>,\n",
       " <a href=\"http://www.pasadenacommunitychurch.org/ministries/archives-ministry.html\">Church Archives</a>,\n",
       " <a href=\"http://www.pasadenacommunitychurch.org/ministries/counseling.html\">Counseling</a>,\n",
       " <a href=\"http://www.pasadenacommunitychurch.org/ministries/disaster-assistance.html\">Disaster Assistance</a>,\n",
       " <a href=\"http://www.pasadenacommunitychurch.org/ministries/esol-classes.html\">ESOL Classes</a>,\n",
       " <a href=\"http://www.pasadenacommunitychurch.org/ministries/facilities-and-grounds.html\">Facilities and Grounds</a>,\n",
       " <a href=\"http://www.pasadenacommunitychurch.org/ministries/hospitality.html\">Hospitality</a>,\n",
       " <a href=\"http://www.pasadenacommunitychurch.org/ministries/legacy-gifts.html\">Legacy Gifts</a>,\n",
       " <a href=\"http://www.pasadenacommunitychurch.org/ministries/newcomer-s-class-ministry.html\">Newcomers</a>,\n",
       " <a href=\"http://www.pasadenacommunitychurch.org/ministries/outreach-ministry.html\">Outreach</a>]"
      ]
     },
     "execution_count": 18,
     "metadata": {},
     "output_type": "execute_result"
    }
   ],
   "source": [
    "# Take a look at some \"a\" parts\n",
    "soup(\"a\")[0:20]"
   ]
  },
  {
   "cell_type": "markdown",
   "metadata": {},
   "source": [
    "## Step 3. Find Links to Sermon Files\n",
    "\n",
    "Make a list called \"pdfurl\" composed of all the href attributes which contain \"pdf\""
   ]
  },
  {
   "cell_type": "code",
   "execution_count": 20,
   "metadata": {
    "collapsed": false
   },
   "outputs": [
    {
     "name": "stdout",
     "output_type": "stream",
     "text": [
      "http://www.pasadenacommunitychurch.org/wp-content/uploads/Dec-6-2015-sermon.pdf\n",
      "http://www.pasadenacommunitychurch.org/wp-content/uploads/Nov-29-2015-sermon.pdf\n",
      "http://www.pasadenacommunitychurch.org/wp-content/uploads/Nov-22-2015-sermon.pdf\n",
      "http://www.pasadenacommunitychurch.org/wp-content/uploads/Nov-15-2015-sermon.pdf\n",
      "http://www.pasadenacommunitychurch.org/wp-content/uploads/Nov-8-2015-sermon1.pdf\n",
      "http://www.pasadenacommunitychurch.org/wp-content/uploads/Nov-1-2015-sermon.pdf\n",
      "http://www.pasadenacommunitychurch.org/wp-content/uploads/Oct-18-2015-sermon.pdf\n",
      "http://www.pasadenacommunitychurch.org/wp-content/uploads/Oct-11-2015-sermon.pdf\n",
      "http://www.pasadenacommunitychurch.org/wp-content/uploads/Oct-4-2015-sermon.pdf\n",
      "http://www.pasadenacommunitychurch.org/wp-content/uploads/Sept-27-2015-sermon.pdf\n",
      "http://www.pasadenacommunitychurch.org/wp-content/uploads/Sept-20-2015-sermon.pdf\n",
      "http://www.pasadenacommunitychurch.org/wp-content/uploads/Sept-13-2015-sermon.pdf\n",
      "http://www.pasadenacommunitychurch.org/wp-content/uploads/Sept-6-2015-sermon.pdf\n",
      "http://www.pasadenacommunitychurch.org/wp-content/uploads/August-23-2015-sermon.pdf\n",
      "http://www.pasadenacommunitychurch.org/wp-content/uploads/August-16-2015-sermon.pdf\n",
      "http://www.pasadenacommunitychurch.org/wp-content/uploads/August-9-2015-sermon.pdf\n",
      "http://www.pasadenacommunitychurch.org/wp-content/uploads/August-2-2015-sermon.pdf\n",
      "http://www.pasadenacommunitychurch.org/wp-content/uploads/July-26-2015-sermon.pdf\n",
      "http://www.pasadenacommunitychurch.org/wp-content/uploads/July-19-2015-sermon.pdf\n",
      "http://www.pasadenacommunitychurch.org/wp-content/uploads/July-12-2015-sermon.pdf\n"
     ]
    },
    {
     "data": {
      "text/plain": [
       "20"
      ]
     },
     "execution_count": 20,
     "metadata": {},
     "output_type": "execute_result"
    }
   ],
   "source": [
    "\n",
    "#Create an empty list\n",
    "\n",
    "pdfurl = []\n",
    "\n",
    "for link in soup('a'):               #within all \"a\" elements\n",
    "    if \"pdf\" in str(link):           #if \"pdf\" in row with \"a\" element\n",
    "        print link['href']           #print the link\n",
    "        pdfurl.append(link['href'])  #append the link to pdfurl\n",
    "\n",
    "#Check, and there are 20 pdf files\n",
    "len(pdfurl)"
   ]
  },
  {
   "cell_type": "markdown",
   "metadata": {},
   "source": [
    "##Prepare to Download - Create Filenames"
   ]
  },
  {
   "cell_type": "code",
   "execution_count": 22,
   "metadata": {
    "collapsed": false
   },
   "outputs": [
    {
     "data": {
      "text/plain": [
       "['Dec-6-2015-sermon',\n",
       " 'Nov-29-2015-sermon',\n",
       " 'Nov-22-2015-sermon',\n",
       " 'Nov-15-2015-sermon',\n",
       " 'Nov-8-2015-sermon1',\n",
       " 'Nov-1-2015-sermon',\n",
       " 'Oct-18-2015-sermon',\n",
       " 'Oct-11-2015-sermon',\n",
       " 'Oct-4-2015-sermon',\n",
       " 'Sept-27-2015-sermon',\n",
       " 'Sept-20-2015-sermon',\n",
       " 'Sept-13-2015-sermon',\n",
       " 'Sept-6-2015-sermon',\n",
       " 'August-23-2015-sermon',\n",
       " 'August-16-2015-sermon',\n",
       " 'August-9-2015-sermon',\n",
       " 'August-2-2015-sermon',\n",
       " 'July-26-2015-sermon',\n",
       " 'July-19-2015-sermon',\n",
       " 'July-12-2015-sermon']"
      ]
     },
     "execution_count": 22,
     "metadata": {},
     "output_type": "execute_result"
    }
   ],
   "source": [
    "#Creating a list of filenames for saving downloaded files\n",
    "\n",
    "filenames = [] #create an empty list\n",
    "\n",
    "for i in range(len(pdfurl)):\n",
    "    name = pdfurl[i].split(\"/\")[-1] #split at the last \"/\"\n",
    "    name = name.split(\".\")[0]  #split at \".\" and get element before the \".\"\n",
    "    filenames.append(name)  #append to list of filenames\n",
    "    \n",
    "filenames"
   ]
  },
  {
   "cell_type": "markdown",
   "metadata": {},
   "source": [
    "##Download PDF Files"
   ]
  },
  {
   "cell_type": "code",
   "execution_count": 35,
   "metadata": {
    "collapsed": false
   },
   "outputs": [
    {
     "name": "stdout",
     "output_type": "stream",
     "text": [
      "http://www.pasadenacommunitychurch.org/wp-content/uploads/Nov-22-2015-sermon.pdf\n",
      "http://www.pasadenacommunitychurch.org/wp-content/uploads/Nov-15-2015-sermon.pdf\n",
      "http://www.pasadenacommunitychurch.org/wp-content/uploads/Nov-8-2015-sermon.pdf\n",
      "http://www.pasadenacommunitychurch.org/wp-content/uploads/Nov-1-2015-sermon.pdf\n",
      "http://www.pasadenacommunitychurch.org/wp-content/uploads/Oct-18-2015-sermon.pdf\n",
      "http://www.pasadenacommunitychurch.org/wp-content/uploads/Oct-11-2015-sermon.pdf\n",
      "http://www.pasadenacommunitychurch.org/wp-content/uploads/Oct-4-2015-sermon.pdf\n",
      "http://www.pasadenacommunitychurch.org/wp-content/uploads/Sept-27-2015-sermon.pdf\n",
      "http://www.pasadenacommunitychurch.org/wp-content/uploads/Sept-20-2015-sermon.pdf\n",
      "http://www.pasadenacommunitychurch.org/wp-content/uploads/Sept-13-2015-sermon.pdf\n",
      "http://www.pasadenacommunitychurch.org/wp-content/uploads/Sept-6-2015-sermon.pdf\n",
      "http://www.pasadenacommunitychurch.org/wp-content/uploads/August-23-2015-sermon.pdf\n",
      "http://www.pasadenacommunitychurch.org/wp-content/uploads/August-16-2015-sermon.pdf\n",
      "http://www.pasadenacommunitychurch.org/wp-content/uploads/August-9-2015-sermon.pdf\n",
      "http://www.pasadenacommunitychurch.org/wp-content/uploads/August-2-2015-sermon.pdf\n",
      "http://www.pasadenacommunitychurch.org/wp-content/uploads/July-26-2015-sermon.pdf\n",
      "http://www.pasadenacommunitychurch.org/wp-content/uploads/July-19-2015-sermon.pdf\n",
      "http://www.pasadenacommunitychurch.org/wp-content/uploads/July-12-2015-sermon.pdf\n",
      "http://www.pasadenacommunitychurch.org/wp-content/uploads/July-5-2015-sermon.pdf\n",
      "http://www.pasadenacommunitychurch.org/wp-content/uploads/June-28-2015-sermon.pdf\n"
     ]
    }
   ],
   "source": [
    "#Downloading files with pdfurl and filenames\n",
    "\n",
    "#a list to store urls that didn't download\n",
    "bad_urls = []\n",
    "\n",
    "#a for loop to go through each url in pdfurl list\n",
    "for i, url in enumerate(pdfurl):\n",
    "    print url  #to see which url is being processed\n",
    "    try:\n",
    "        testfile = urllib.URLopener()    \n",
    "        testfile.retrieve(url, filenames[i])  #download, with designated filenames\n",
    "    \n",
    "    #if it doesn't work, add to bad_urls list\n",
    "    except:\n",
    "        bad_urls.append(url)\n"
   ]
  },
  {
   "cell_type": "markdown",
   "metadata": {
    "collapsed": false
   },
   "source": [
    "##But:\n",
    "We only have 20 sermons, so we continue with another page of sermons on that website. To be continued with Pasadena2..."
   ]
  },
  {
   "cell_type": "code",
   "execution_count": null,
   "metadata": {
    "collapsed": true
   },
   "outputs": [],
   "source": []
  }
 ],
 "metadata": {
  "kernelspec": {
   "display_name": "Python 2",
   "language": "python",
   "name": "python2"
  },
  "language_info": {
   "codemirror_mode": {
    "name": "ipython",
    "version": 2
   },
   "file_extension": ".py",
   "mimetype": "text/x-python",
   "name": "python",
   "nbconvert_exporter": "python",
   "pygments_lexer": "ipython2",
   "version": "2.7.10"
  }
 },
 "nbformat": 4,
 "nbformat_minor": 0
}
