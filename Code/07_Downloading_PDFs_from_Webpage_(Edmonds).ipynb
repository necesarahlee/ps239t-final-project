{
 "cells": [
  {
   "cell_type": "markdown",
   "metadata": {},
   "source": [
    "# Edmonds Church"
   ]
  },
  {
   "cell_type": "markdown",
   "metadata": {},
   "source": [
    "## The Task:\n",
    "\n",
    "Repeat exactly what I did with the Pasadena code but on the Edmonds church webpage of sermons. http://www.edmondsumc.org/sermontranscripts "
   ]
  },
  {
   "cell_type": "markdown",
   "metadata": {},
   "source": [
    "## The Tools:\n",
    "\n",
    "1. [Requests](http://docs.python-requests.org/en/latest/user/quickstart/)\n",
    "2. [Beautiful Soup](http://www.crummy.com/software/BeautifulSoup/bs4/doc/)\n",
    "3. urllib and csv, and os modules"
   ]
  },
  {
   "cell_type": "code",
   "execution_count": 20,
   "metadata": {
    "collapsed": false
   },
   "outputs": [],
   "source": [
    "# import required modules\n",
    "import requests\n",
    "import csv\n",
    "import urllib\n",
    "import os\n",
    "from bs4 import BeautifulSoup"
   ]
  },
  {
   "cell_type": "markdown",
   "metadata": {},
   "source": [
    "## Step 1: Make a Get Request and Read in HTML\n",
    "\n",
    "1. make a GET request to the page\n",
    "2. read in the html of the page"
   ]
  },
  {
   "cell_type": "code",
   "execution_count": 2,
   "metadata": {
    "collapsed": false
   },
   "outputs": [],
   "source": [
    "# make a GET request\n",
    "req = requests.get('http://www.edmondsumc.org/sermontranscripts')\n",
    "# read the content of the server’s response\n",
    "src = req.text"
   ]
  },
  {
   "cell_type": "markdown",
   "metadata": {},
   "source": [
    "## Step 2: Soup it\n",
    "\n",
    "Now we use the `BeautifulSoup` function to parse the reponse into an HTML tree, which contains all of the HTML in the original document."
   ]
  },
  {
   "cell_type": "code",
   "execution_count": 3,
   "metadata": {
    "collapsed": false
   },
   "outputs": [
    {
     "name": "stdout",
     "output_type": "stream",
     "text": [
      "f NM === 'undefined') {\r\n",
      "\t\t\tNM = {};\r\n",
      "\t\t}\r\n",
      "\t\tNM.select2ShimInit = false;\r\n",
      "\t\tfunction initSelect2(selector) {\r\n",
      "\t\t\tif (NM.select2ShimInit == false) {\r\n",
      "\t\t\t\t$('.fe_form').prepend('<input id=\"select2_shim\" name=\"select2_shim\" type=\"text\" style=\"position:absolute; left: -99999em\">');\r\n",
      "\t\t\t\tNM.select2ShimInit = true;\r\n",
      "\t\t\t}\r\n",
      "\t\t\t$(selector).select2({\r\n",
      "\t\t\t\tcontainerCssClass:'cs_light_bg cs_line_border',\r\n",
      "\t\t\t\tdropdownCssClass:'cs_light_bg cs_line_border'\r\n",
      "\t\t\t}).on('select2-focus', function(){\r\n",
      "\t\t\t\t$(this).parent().children('.select2-container').removeClass('cs_line_border').addClass('cs_accent_border');\r\n",
      "\t\t\t}).on('select2-blur', function(){\r\n",
      "\t\t\t\t$(this).parent().children('.select2-container').removeClass('cs_accent_border').addClass('cs_line_border');\r\n",
      "\t\t\t});\r\n",
      "\t\t\t\r\n",
      "\t\t\tvar inputHeight = ($('#select2_shim').outerHeight(false) - 2);\r\n",
      "\t\t\tvar arrowOffset = ((inputHeight - 28) / 2);\r\n",
      "\t\t\t\r\n",
      "\t\t\tif ( inputHeight > 28 ){\r\n",
      "\t\t\t\t$('.select2-choice, .select2-chosen').css({'height': inputHeight});\r\n",
      "\t\t\t\t$('.select\n"
     ]
    }
   ],
   "source": [
    "# parse the response into an HTML tree\n",
    "soup = BeautifulSoup(src)\n",
    "# take a look\n",
    "print soup.prettify()[1000:2000]"
   ]
  },
  {
   "cell_type": "code",
   "execution_count": 6,
   "metadata": {
    "collapsed": false
   },
   "outputs": [
    {
     "data": {
      "text/plain": [
       "[<a href=\"litesite.cfm\" style=\"position:absolute;left:-9999em;\">View Screen-Reader Accessible Site</a>,\n",
       " <a href=\"content.cfm?page_content=calendar_include.cfm\" id=\"stream_view_all\">More »</a>,\n",
       " <a href=\"content.cfm?page_content=calendar_include.cfm&amp;event_id=8718&amp;mm=12&amp;dd=13&amp;yy=2015\">\n",
       " \t\t\t\t\t\t\n",
       " \t\t\t\t\t\tDec 13  |  <span class=\"list_title\">9:00a.m. Lessons &amp; Carols Worship</span>\n",
       " </a>,\n",
       " <a href=\"content.cfm?page_content=calendar_include.cfm&amp;event_id=8747&amp;mm=12&amp;dd=13&amp;yy=2015\">\n",
       " \t\t\t\t\t\t\n",
       " \t\t\t\t\t\tDec 13  |  <span class=\"list_title\">Bazaar - United Methodist Women</span>\n",
       " </a>,\n",
       " <a href=\"content.cfm?page_content=calendar_include.cfm&amp;event_id=8719&amp;mm=12&amp;dd=13&amp;yy=2015\">\n",
       " \t\t\t\t\t\t\n",
       " \t\t\t\t\t\tDec 13  |  <span class=\"list_title\">10:30a.m. Lessons &amp; Carols</span>\n",
       " </a>]"
      ]
     },
     "execution_count": 6,
     "metadata": {},
     "output_type": "execute_result"
    }
   ],
   "source": [
    "# Take a look at some \"a\" parts\n",
    "soup(\"a\")[0:5]"
   ]
  },
  {
   "cell_type": "markdown",
   "metadata": {},
   "source": [
    "## Step 3. Find Links to Sermon Files\n",
    "\n",
    "Make a list called \"pdfurl\" composed of all the href attributes which contain \"pdf\""
   ]
  },
  {
   "cell_type": "code",
   "execution_count": 16,
   "metadata": {
    "collapsed": false,
    "scrolled": false
   },
   "outputs": [
    {
     "name": "stdout",
     "output_type": "stream",
     "text": [
      "http://s3.amazonaws.com/storage.nm-storage.com/edmondsumc/downloads/120615tx_mangermary.pdf\n",
      "http://s3.amazonaws.com/storage.nm-storage.com/edmondsumc/downloads/112915tx_mangerjohn.pdf\n",
      "http://s3.amazonaws.com/storage.nm-storage.com/edmondsumc/downloads/112215tx_blessedtogive.pdf\n",
      "http://s3.amazonaws.com/storage.nm-storage.com/edmondsumc/downloads/111515tx_redeemingdarkness.pdf\n",
      "http://s3.amazonaws.com/storage.nm-storage.com/edmondsumc/downloads/11115tx_saints_preserve_us.pdf\n",
      "http://s3.amazonaws.com/storage.nm-storage.com/edmondsumc/downloads/102515tx_i_was_hungry.pdf\n",
      "http://s3.amazonaws.com/storage.nm-storage.com/edmondsumc/downloads/101815tx_how_long_childrens_sabbbath.pdf\n",
      "http://s3.amazonaws.com/storage.nm-storage.com/edmondsumc/downloads/100415tx_table_manners.pdf\n",
      "http://s3.amazonaws.com/storage.nm-storage.com/edmondsumc/downloads/092015tx_layyourburdensdown.pdf\n",
      "http://s3.amazonaws.com/storage.nm-storage.com/edmondsumc/downloads/091315tx_nosmallthing.pdf\n",
      "http://s3.amazonaws.com/storage.nm-storage.com/edmondsumc/downloads/090615tx.pdf\n",
      "http://s3.amazonaws.com/storage.nm-storage.com/edmondsumc/downloads/083015tx_tomquigley.pdf\n",
      "http://s3.amazonaws.com/storage.nm-storage.com/edmondsumc/downloads/082315tx.pdf\n",
      "http://s3.amazonaws.com/storage.nm-storage.com/edmondsumc/downloads/081615tx.pdf\n",
      "http://s3.amazonaws.com/storage.nm-storage.com/edmondsumc/downloads/080915tx.pdf\n",
      "http://s3.amazonaws.com/storage.nm-storage.com/edmondsumc/downloads/080215tx.pdf\n",
      "http://s3.amazonaws.com/storage.nm-storage.com/edmondsumc/downloads/072615tx.pdf\n",
      "http://s3.amazonaws.com/storage.nm-storage.com/edmondsumc/downloads/071915tx.pdf\n",
      "http://s3.amazonaws.com/storage.nm-storage.com/edmondsumc/downloads/071215tx.pdf\n",
      "http://s3.amazonaws.com/storage.nm-storage.com/edmondsumc/downloads/062815tx.pdf\n",
      "http://s3.amazonaws.com/storage.nm-storage.com/edmondsumc/downloads/062115tx.pdf\n",
      "http://s3.amazonaws.com/storage.nm-storage.com/edmondsumc/downloads/060715.pdf\n",
      "http://s3.amazonaws.com/storage.nm-storage.com/edmondsumc/downloads/052415tx.pdf\n",
      "http://s3.amazonaws.com/storage.nm-storage.com/edmondsumc/downloads/051715tx.pdf\n",
      "http://s3.amazonaws.com/storage.nm-storage.com/edmondsumc/downloads/051015tx.pdf\n",
      "http://s3.amazonaws.com/storage.nm-storage.com/edmondsumc/downloads/050315tx.pdf\n",
      "http://s3.amazonaws.com/storage.nm-storage.com/edmondsumc/downloads/042615tx_1.pdf\n",
      "http://s3.amazonaws.com/storage.nm-storage.com/edmondsumc/downloads/embracing_forgiveness_i_why_forgive_4_19_15.pdf\n",
      "http://s3.amazonaws.com/storage.nm-storage.com/edmondsumc/downloads/040515tx.pdf\n",
      "http://s3.amazonaws.com/storage.nm-storage.com/edmondsumc/downloads/032915tx.pdf\n",
      "http://s3.amazonaws.com/storage.nm-storage.com/edmondsumc/downloads/032215tx.pdf\n",
      "http://s3.amazonaws.com/storage.nm-storage.com/edmondsumc/downloads/031515tx.pdf\n",
      "http://s3.amazonaws.com/storage.nm-storage.com/edmondsumc/downloads/030115tx.pdf\n",
      "http://s3.amazonaws.com/storage.nm-storage.com/edmondsumc/downloads/022215tx.pdf\n",
      "http://s3.amazonaws.com/storage.nm-storage.com/edmondsumc/downloads/021515tx.pdf\n",
      "http://s3.amazonaws.com/storage.nm-storage.com/edmondsumc/downloads/020815tx.pdf\n",
      "http://s3.amazonaws.com/storage.nm-storage.com/edmondsumc/downloads/020115tx.pdf\n",
      "http://s3.amazonaws.com/storage.nm-storage.com/edmondsumc/downloads/011815tx.pdf\n",
      "http://s3.amazonaws.com/storage.nm-storage.com/edmondsumc/downloads/011115tx.pdf\n",
      "http://s3.amazonaws.com/storage.nm-storage.com/edmondsumc/downloads/010415tx.pdf\n"
     ]
    },
    {
     "data": {
      "text/plain": [
       "40"
      ]
     },
     "execution_count": 16,
     "metadata": {},
     "output_type": "execute_result"
    }
   ],
   "source": [
    "\n",
    "#Create an empty list\n",
    "pdfurl = []\n",
    "\n",
    "for link in soup('a'):               #within all \"a\" elements\n",
    "    if \".pdf\" in str(link):           #if \"pdf\" in row with \"a\" element\n",
    "        print link['href']           #print the link\n",
    "        pdfurl.append(link['href'])  #append the link to pdfurl\n",
    "\n",
    "#Check, and there are 40 pdf files\n",
    "len(pdfurl)"
   ]
  },
  {
   "cell_type": "markdown",
   "metadata": {},
   "source": [
    "##Prepare to Download - Create Filenames"
   ]
  },
  {
   "cell_type": "code",
   "execution_count": 17,
   "metadata": {
    "collapsed": false
   },
   "outputs": [
    {
     "data": {
      "text/plain": [
       "['120615tx_mangermary',\n",
       " '112915tx_mangerjohn',\n",
       " '112215tx_blessedtogive',\n",
       " '111515tx_redeemingdarkness',\n",
       " '11115tx_saints_preserve_us',\n",
       " '102515tx_i_was_hungry',\n",
       " '101815tx_how_long_childrens_sabbbath',\n",
       " '100415tx_table_manners',\n",
       " '092015tx_layyourburdensdown',\n",
       " '091315tx_nosmallthing',\n",
       " '090615tx',\n",
       " '083015tx_tomquigley',\n",
       " '082315tx',\n",
       " '081615tx',\n",
       " '080915tx',\n",
       " '080215tx',\n",
       " '072615tx',\n",
       " '071915tx',\n",
       " '071215tx',\n",
       " '062815tx',\n",
       " '062115tx',\n",
       " '060715',\n",
       " '052415tx',\n",
       " '051715tx',\n",
       " '051015tx',\n",
       " '050315tx',\n",
       " '042615tx_1',\n",
       " 'embracing_forgiveness_i_why_forgive_4_19_15',\n",
       " '040515tx',\n",
       " '032915tx',\n",
       " '032215tx',\n",
       " '031515tx',\n",
       " '030115tx',\n",
       " '022215tx',\n",
       " '021515tx',\n",
       " '020815tx',\n",
       " '020115tx',\n",
       " '011815tx',\n",
       " '011115tx',\n",
       " '010415tx']"
      ]
     },
     "execution_count": 17,
     "metadata": {},
     "output_type": "execute_result"
    }
   ],
   "source": [
    "#Creating a list of filenames for saving downloaded files\n",
    "\n",
    "filenames = [] #create an empty list\n",
    "\n",
    "for i in range(len(pdfurl)):\n",
    "    name = pdfurl[i].split(\"/\")[-1] #split at the last \"/\"\n",
    "    name = name.split(\".\")[0]  #split at \".\" and get element before the \".\"\n",
    "    filenames.append(name)  #append to list of filenames\n",
    "    \n",
    "filenames"
   ]
  },
  {
   "cell_type": "markdown",
   "metadata": {},
   "source": [
    "##Download PDF Files"
   ]
  },
  {
   "cell_type": "code",
   "execution_count": 18,
   "metadata": {
    "collapsed": false
   },
   "outputs": [
    {
     "name": "stdout",
     "output_type": "stream",
     "text": [
      "http://s3.amazonaws.com/storage.nm-storage.com/edmondsumc/downloads/120615tx_mangermary.pdf\n",
      "http://s3.amazonaws.com/storage.nm-storage.com/edmondsumc/downloads/112915tx_mangerjohn.pdf\n",
      "http://s3.amazonaws.com/storage.nm-storage.com/edmondsumc/downloads/112215tx_blessedtogive.pdf\n",
      "http://s3.amazonaws.com/storage.nm-storage.com/edmondsumc/downloads/111515tx_redeemingdarkness.pdf\n",
      "http://s3.amazonaws.com/storage.nm-storage.com/edmondsumc/downloads/11115tx_saints_preserve_us.pdf\n",
      "http://s3.amazonaws.com/storage.nm-storage.com/edmondsumc/downloads/102515tx_i_was_hungry.pdf\n",
      "http://s3.amazonaws.com/storage.nm-storage.com/edmondsumc/downloads/101815tx_how_long_childrens_sabbbath.pdf\n",
      "http://s3.amazonaws.com/storage.nm-storage.com/edmondsumc/downloads/100415tx_table_manners.pdf\n",
      "http://s3.amazonaws.com/storage.nm-storage.com/edmondsumc/downloads/092015tx_layyourburdensdown.pdf\n",
      "http://s3.amazonaws.com/storage.nm-storage.com/edmondsumc/downloads/091315tx_nosmallthing.pdf\n",
      "http://s3.amazonaws.com/storage.nm-storage.com/edmondsumc/downloads/090615tx.pdf\n",
      "http://s3.amazonaws.com/storage.nm-storage.com/edmondsumc/downloads/083015tx_tomquigley.pdf\n",
      "http://s3.amazonaws.com/storage.nm-storage.com/edmondsumc/downloads/082315tx.pdf\n",
      "http://s3.amazonaws.com/storage.nm-storage.com/edmondsumc/downloads/081615tx.pdf\n",
      "http://s3.amazonaws.com/storage.nm-storage.com/edmondsumc/downloads/080915tx.pdf\n",
      "http://s3.amazonaws.com/storage.nm-storage.com/edmondsumc/downloads/080215tx.pdf\n",
      "http://s3.amazonaws.com/storage.nm-storage.com/edmondsumc/downloads/072615tx.pdf\n",
      "http://s3.amazonaws.com/storage.nm-storage.com/edmondsumc/downloads/071915tx.pdf\n",
      "http://s3.amazonaws.com/storage.nm-storage.com/edmondsumc/downloads/071215tx.pdf\n",
      "http://s3.amazonaws.com/storage.nm-storage.com/edmondsumc/downloads/062815tx.pdf\n",
      "http://s3.amazonaws.com/storage.nm-storage.com/edmondsumc/downloads/062115tx.pdf\n",
      "http://s3.amazonaws.com/storage.nm-storage.com/edmondsumc/downloads/060715.pdf\n",
      "http://s3.amazonaws.com/storage.nm-storage.com/edmondsumc/downloads/052415tx.pdf\n",
      "http://s3.amazonaws.com/storage.nm-storage.com/edmondsumc/downloads/051715tx.pdf\n",
      "http://s3.amazonaws.com/storage.nm-storage.com/edmondsumc/downloads/051015tx.pdf\n",
      "http://s3.amazonaws.com/storage.nm-storage.com/edmondsumc/downloads/050315tx.pdf\n",
      "http://s3.amazonaws.com/storage.nm-storage.com/edmondsumc/downloads/042615tx_1.pdf\n",
      "http://s3.amazonaws.com/storage.nm-storage.com/edmondsumc/downloads/embracing_forgiveness_i_why_forgive_4_19_15.pdf\n",
      "http://s3.amazonaws.com/storage.nm-storage.com/edmondsumc/downloads/040515tx.pdf\n",
      "http://s3.amazonaws.com/storage.nm-storage.com/edmondsumc/downloads/032915tx.pdf\n",
      "http://s3.amazonaws.com/storage.nm-storage.com/edmondsumc/downloads/032215tx.pdf\n",
      "http://s3.amazonaws.com/storage.nm-storage.com/edmondsumc/downloads/031515tx.pdf\n",
      "http://s3.amazonaws.com/storage.nm-storage.com/edmondsumc/downloads/030115tx.pdf\n",
      "http://s3.amazonaws.com/storage.nm-storage.com/edmondsumc/downloads/022215tx.pdf\n",
      "http://s3.amazonaws.com/storage.nm-storage.com/edmondsumc/downloads/021515tx.pdf\n",
      "http://s3.amazonaws.com/storage.nm-storage.com/edmondsumc/downloads/020815tx.pdf\n",
      "http://s3.amazonaws.com/storage.nm-storage.com/edmondsumc/downloads/020115tx.pdf\n",
      "http://s3.amazonaws.com/storage.nm-storage.com/edmondsumc/downloads/011815tx.pdf\n",
      "http://s3.amazonaws.com/storage.nm-storage.com/edmondsumc/downloads/011115tx.pdf\n",
      "http://s3.amazonaws.com/storage.nm-storage.com/edmondsumc/downloads/010415tx.pdf\n"
     ]
    }
   ],
   "source": [
    "#Downloading files with pdfurl and filenames\n",
    "\n",
    "#a list to store urls that didn't download\n",
    "bad_urls = []\n",
    "\n",
    "#a for loop to go through each url in pdfurl list\n",
    "for i, url in enumerate(pdfurl):\n",
    "    print url  #to see which url is being processed\n",
    "    try:\n",
    "        testfile = urllib.URLopener()    \n",
    "        testfile.retrieve(url, filenames[i])  #download, with designated filenames\n",
    "    \n",
    "    #if it doesn't work, add to bad_urls list\n",
    "    except:\n",
    "        bad_urls.append(url)\n"
   ]
  },
  {
   "cell_type": "markdown",
   "metadata": {
    "collapsed": false
   },
   "source": [
    "##Done: Now we have 40 sermons."
   ]
  },
  {
   "cell_type": "markdown",
   "metadata": {
    "collapsed": true
   },
   "source": [
    "##Next: PDF --> TXT --> CSV\n",
    "We use the terminal to batch convert pdf files into txt files. Then use step 03_Creating_CSV_of_Texts to turn this into a csv file with 'filename' and 'text'."
   ]
  },
  {
   "cell_type": "code",
   "execution_count": 21,
   "metadata": {
    "collapsed": false
   },
   "outputs": [],
   "source": [
    "#turn text files in a folder into a .csv file\n",
    "\n",
    "sermonlist = []\n",
    "dir = \"Edmond\"\n",
    "for filename in os.listdir(dir):\n",
    "    if filename.endswith(\".txt\"):\n",
    "        dic = {}\n",
    "        dic['filename'] = filename[:-4]\n",
    "        with open(dir + \"/\" + filename) as f:\n",
    "            text = f.read()\n",
    "        \n",
    "        text = text.replace('\\n', '')\n",
    "        text = text.replace('\\t', '')\n",
    "        text = text.replace('\\r', '')\n",
    "        text = text.replace('\\f', '')\n",
    "        \n",
    "        # stuff is going to disappear!\n",
    "        text = text.decode('ascii','ignore')\n",
    "        \n",
    "        dic['text'] = text\n",
    "        sermonlist.append(dic)"
   ]
  },
  {
   "cell_type": "code",
   "execution_count": 22,
   "metadata": {
    "collapsed": false
   },
   "outputs": [
    {
     "data": {
      "text/plain": [
       "['filename', 'text']"
      ]
     },
     "execution_count": 22,
     "metadata": {},
     "output_type": "execute_result"
    }
   ],
   "source": [
    "#Set keys\n",
    "\n",
    "keys = ['filename','text']\n",
    "keys"
   ]
  },
  {
   "cell_type": "code",
   "execution_count": 23,
   "metadata": {
    "collapsed": true
   },
   "outputs": [],
   "source": [
    "from csv import DictWriter\n",
    "\n",
    "#Create a file called 'sermons.csv' into which we write the csv list of 'sermons' \n",
    "with open('edmondsermons.csv', 'wb') as output_file:\n",
    "    dict_writer = csv.DictWriter(output_file, keys)\n",
    "    dict_writer.writeheader()\n",
    "    dict_writer.writerows(sermonlist)"
   ]
  },
  {
   "cell_type": "code",
   "execution_count": null,
   "metadata": {
    "collapsed": true
   },
   "outputs": [],
   "source": []
  }
 ],
 "metadata": {
  "kernelspec": {
   "display_name": "Python 2",
   "language": "python",
   "name": "python2"
  },
  "language_info": {
   "codemirror_mode": {
    "name": "ipython",
    "version": 2
   },
   "file_extension": ".py",
   "mimetype": "text/x-python",
   "name": "python",
   "nbconvert_exporter": "python",
   "pygments_lexer": "ipython2",
   "version": "2.7.10"
  }
 },
 "nbformat": 4,
 "nbformat_minor": 0
}
