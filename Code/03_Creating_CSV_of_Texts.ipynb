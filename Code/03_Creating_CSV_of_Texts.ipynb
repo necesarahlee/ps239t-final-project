{
 "cells": [
  {
   "cell_type": "markdown",
   "metadata": {
    "collapsed": true
   },
   "source": [
    "#Create a CSV from a Folder of Downloaded Texts\n",
    "\n",
    "Using all text files in a folder, I createa dictionary consisting of 'filename' and 'text'. Then I put it into a csv file. This code can is used for Chinese sermons as well as English sermons. "
   ]
  },
  {
   "cell_type": "markdown",
   "metadata": {},
   "source": [
    "## The Tools:\n",
    "\n",
    "1. The glob module\n",
    "2. The CSV module\n",
    "3. The os module"
   ]
  },
  {
   "cell_type": "code",
   "execution_count": 5,
   "metadata": {
    "collapsed": true
   },
   "outputs": [],
   "source": [
    "#Import required modules\n",
    "import glob\n",
    "import csv\n",
    "import urllib\n",
    "import os"
   ]
  },
  {
   "cell_type": "markdown",
   "metadata": {},
   "source": [
    "##Step 1. A List of Dictionaries from Texts in Folder"
   ]
  },
  {
   "cell_type": "code",
   "execution_count": 9,
   "metadata": {
    "collapsed": false
   },
   "outputs": [],
   "source": [
    "#bringing in all .txt files from the \"rawdata\" folder\n",
    "sermon_list = glob.glob(\"rawdata\" + '/*.txt') "
   ]
  },
  {
   "cell_type": "code",
   "execution_count": 10,
   "metadata": {
    "collapsed": false
   },
   "outputs": [
    {
     "data": {
      "text/plain": [
       "46"
      ]
     },
     "execution_count": 10,
     "metadata": {},
     "output_type": "execute_result"
    }
   ],
   "source": [
    "#check how many files\n",
    "len(sermon_list)"
   ]
  },
  {
   "cell_type": "code",
   "execution_count": 6,
   "metadata": {
    "collapsed": false
   },
   "outputs": [],
   "source": [
    "#Create an empty list\n",
    "sermonlist = []\n",
    "\n",
    "#create a variable \"dir\" to store the foldername. \n",
    "dir = \"rawdata\"\n",
    "\n",
    "#create a for loop to go through each file in the specified folder\n",
    "for filename in os.listdir(dir):\n",
    "    \n",
    "    #if the file is a .txt file\n",
    "    if filename.endswith(\".txt\"):\n",
    "        \n",
    "        #create an empty dictionary\n",
    "        dic = {}\n",
    "        \n",
    "        #the filename minus \".txt\"\n",
    "        dic['filename'] = filename[:-4]  \n",
    "        \n",
    "        #read in the text\n",
    "        with open(dir + \"/\" + filename) as f:\n",
    "            text = f.read()\n",
    "        \n",
    "        #replace line breaks with a space\n",
    "        text = text.replace('\\n', '')\n",
    "        text = text.replace('\\t', '')\n",
    "        \n",
    "        # stuff is going to disappear!\n",
    "        text = text.decode('ascii','ignore')\n",
    "        \n",
    "        #finally, put it as the value for 'text' key\n",
    "        dic['text'] = text\n",
    "        \n",
    "        #append each dictionary to the sermonlist\n",
    "        sermonlist.append(dic)"
   ]
  },
  {
   "cell_type": "code",
   "execution_count": 7,
   "metadata": {
    "collapsed": false
   },
   "outputs": [
    {
     "data": {
      "text/plain": [
       "46"
      ]
     },
     "execution_count": 7,
     "metadata": {},
     "output_type": "execute_result"
    }
   ],
   "source": [
    "#check how many sermons\n",
    "len(sermonlist)"
   ]
  },
  {
   "cell_type": "markdown",
   "metadata": {},
   "source": [
    "## Step 2. Write to a csv file"
   ]
  },
  {
   "cell_type": "code",
   "execution_count": 8,
   "metadata": {
    "collapsed": true
   },
   "outputs": [],
   "source": [
    "#write to a .csv file\n",
    "\n",
    "#set keys\n",
    "keys = sorted(sermonlist[0].keys())\n",
    "\n",
    "with open('sermontexts.csv','wb') as output_file:\n",
    "    dict_writer = csv.DictWriter(output_file, keys)\n",
    "    dict_writer.writeheader()\n",
    "    dict_writer.writerows(sermonlist)"
   ]
  },
  {
   "cell_type": "markdown",
   "metadata": {
    "collapsed": true
   },
   "source": [
    "## Step 3. Done! Now Repeat with Other Folders of Sermons"
   ]
  }
 ],
 "metadata": {
  "kernelspec": {
   "display_name": "Python 2",
   "language": "python",
   "name": "python2"
  },
  "language_info": {
   "codemirror_mode": {
    "name": "ipython",
    "version": 2
   },
   "file_extension": ".py",
   "mimetype": "text/x-python",
   "name": "python",
   "nbconvert_exporter": "python",
   "pygments_lexer": "ipython2",
   "version": "2.7.10"
  }
 },
 "nbformat": 4,
 "nbformat_minor": 0
}
