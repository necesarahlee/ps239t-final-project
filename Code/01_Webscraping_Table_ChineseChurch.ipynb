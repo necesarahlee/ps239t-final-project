{
 "cells": [
  {
   "cell_type": "markdown",
   "metadata": {},
   "source": [
    "# Webscraping - Lecture Code"
   ]
  },
  {
   "cell_type": "markdown",
   "metadata": {},
   "source": [
    "## The Task:\n",
    "\n",
    "Using Beautiful Soup and basic Python skills, webscrape the table from the Chinese church website: http://english.hdchurch.org/html/news/focus/2011/0429/196.html#2009\n",
    "The result is a list of dictionaries, each with date, title, preacher, scripture, and filename. Then write the list into a CSV file. "
   ]
  },
  {
   "cell_type": "markdown",
   "metadata": {},
   "source": [
    "## The Tools:\n",
    "\n",
    "1. [Requests](http://docs.python-requests.org/en/latest/user/quickstart/)\n",
    "2. [Beautiful Soup](http://www.crummy.com/software/BeautifulSoup/bs4/doc/)\n",
    "3. CSV package"
   ]
  },
  {
   "cell_type": "code",
   "execution_count": 1,
   "metadata": {
    "collapsed": false
   },
   "outputs": [],
   "source": [
    "# import required modules\n",
    "import requests\n",
    "import csv\n",
    "from bs4 import BeautifulSoup"
   ]
  },
  {
   "cell_type": "markdown",
   "metadata": {},
   "source": [
    "## Step 1: Make a Get Request"
   ]
  },
  {
   "cell_type": "code",
   "execution_count": 2,
   "metadata": {
    "collapsed": false
   },
   "outputs": [],
   "source": [
    "# make a GET request\n",
    "req = requests.get('http://english.hdchurch.org/html/news/focus/2011/0429/196.html#2009')\n",
    "# read the content of the server’s response\n",
    "src = req.text"
   ]
  },
  {
   "cell_type": "markdown",
   "metadata": {},
   "source": [
    "## Step 2: Parse into HTML\n",
    "\n",
    "We use the `BeautifulSoup` function to parse the above reponse into an HTML tree. This returns an object with all of the HTML in the original document."
   ]
  },
  {
   "cell_type": "code",
   "execution_count": 19,
   "metadata": {
    "collapsed": false
   },
   "outputs": [
    {
     "name": "stdout",
     "output_type": "stream",
     "text": [
      "<html>\n",
      " <body>\n",
      "  <p>\n",
      "   ï»¿\n",
      "   <!DOCTYPE html PUBLIC \"-//W3C//DTD XHTML 1.0 Transitional//EN\" \"http://www.w3.org/TR/xhtml1/DTD/xhtml1-transitional.dtd\">\n",
      "  </p>\n",
      "  <meta content=\"text/html; charset=utf-8\" http-equiv=\"Content-Type\"/>\n",
      "  <title>\n",
      "   Sort by Date: Sermon (media,ppt,transcription) for download - Haidian Christian Church\n",
      "  </title>\n",
      "  <meta content=\",\" name=\"keywords\"/>\n",
      "  <meta content=\"collection of Sermon (from 2009.10) Video Audio &amp; lyric PPT (by English Choir) for Download - Haidian Christian Church English \" name=\"description\"/>\n",
      "  <link href=\"/templets/style/subpage.css\" rel=\"stylesheet\" type=\"text/css\"/>\n",
      "  <link href=\"/templets/style/article.css\" rel=\"stylesheet\" type=\"text/css\"/>\n",
      "  <script language=\"javascript\" src=\"/include/dedeajax2.js\">\n",
      "  </script>\n",
      "  <script language=\"\n"
     ]
    }
   ],
   "source": [
    "# parse the response into an HTML tree\n",
    "soup = BeautifulSoup(src)\n",
    "# take a look\n",
    "print soup.prettify()[:800]"
   ]
  },
  {
   "cell_type": "markdown",
   "metadata": {},
   "source": [
    "## Step 3. Get 'href' Attributes from 'a' Tag"
   ]
  },
  {
   "cell_type": "code",
   "execution_count": 4,
   "metadata": {
    "collapsed": false
   },
   "outputs": [
    {
     "name": "stdout",
     "output_type": "stream",
     "text": [
      "http://english.hdchurch.org\n",
      "http://www.hdchurch.org\n",
      "/\n",
      "http://english.hdchurch.org/\n",
      "/html/aboutus/index.html\n",
      "/html/news/index.html\n",
      "/html/Fellowship/index.html\n",
      "http://english.hdchurch.org/\n",
      "/html/news/index.html\n",
      "/video/HolyBibleNIVRedLetterEdition.pdf\n"
     ]
    }
   ],
   "source": [
    "#See the href (url) attribute from the first 10 links\n",
    "for link in soup('a')[:10]:\n",
    "    print link['href']"
   ]
  },
  {
   "cell_type": "markdown",
   "metadata": {},
   "source": [
    "## Step 4. Look at the rows.\n",
    "We get a list of rows in that table. Rows are identified by the `tr` tag."
   ]
  },
  {
   "cell_type": "code",
   "execution_count": 26,
   "metadata": {
    "collapsed": false
   },
   "outputs": [
    {
     "data": {
      "text/plain": [
       "[<tr>\n",
       " <td align=\"center\">Date &amp; Title</td>\n",
       " <td align=\"center\">Preacher</td>\n",
       " <td align=\"center\">Sermon</td>\n",
       " <td align=\"center\">Sermon</td>\n",
       " <td align=\"center\">Scripture</td>\n",
       " </tr>, <tr>\n",
       " <td align=\"center\"><a href=\"/html/news/2013/0327/408.html\" target=\"_blank\">2013-03-17 Passion For God's Word</a></td>\n",
       " <td align=\"center\">Gloria Li</td>\n",
       " <td align=\"center\"><a href=\"/video/2013/20130317eng.wmv\" target=\"_blank\">video</a></td>\n",
       " <td align=\"center\"><a href=\"/video/2013/20130317eng.mp3\" target=\"_blank\">audio</a><br/>\n",
       " <a href=\"/video/2013/20130317PassionForGodsWord.ppt\" target=\"_blank\">ppt</a></td>\n",
       " <td align=\"center\">2 Timothy 3:14-17</td>\n",
       " </tr>, <tr>\n",
       " <td align=\"center\"><a href=\"/html/news/2013/0324/406.html\" target=\"_blank\">2013-03-10 Come into unity with Christ</a></td>\n",
       " <td align=\"center\">Pastor Wu</td>\n",
       " <td align=\"center\"><a href=\"/video/2013/20130310eng.wmv\" target=\"_blank\">video</a></td>\n",
       " <td align=\"center\"><a href=\"/video/2013/20130310eng.mp3\" target=\"_blank\">audio</a></td>\n",
       " <td align=\"center\">John 6:52-58</td>\n",
       " </tr>]"
      ]
     },
     "execution_count": 26,
     "metadata": {},
     "output_type": "execute_result"
    }
   ],
   "source": [
    "# get all tr elements\n",
    "rows = soup.find_all(\"tr\")\n",
    "\n",
    "#See what they look like\n",
    "rows[0:3]"
   ]
  },
  {
   "cell_type": "code",
   "execution_count": 7,
   "metadata": {
    "collapsed": false,
    "scrolled": false
   },
   "outputs": [
    {
     "data": {
      "text/plain": [
       "[<td align=\"center\"><a href=\"/html/news/2011/1004/273.html\" target=\"_blank\">2011-10-02 Breakfast with Jesus</a></td>,\n",
       " <td align=\"center\">Stephen Wong</td>,\n",
       " <td align=\"center\"><a href=\"/video/2011/20111002eng.wmv\">video</a></td>,\n",
       " <td align=\"center\"><a href=\"/video/2011/20111002eng.doc\">doc</a></td>,\n",
       " <td align=\"center\">John 21:1-14</td>]"
      ]
     },
     "execution_count": 7,
     "metadata": {},
     "output_type": "execute_result"
    }
   ],
   "source": [
    "# Look at just the third item\n",
    "row = rows[80]\n",
    "row\n",
    "# select only those 'td' elements\n",
    "detailCells = row.select('td')\n",
    "\n",
    "detailCells"
   ]
  },
  {
   "cell_type": "code",
   "execution_count": 12,
   "metadata": {
    "collapsed": false
   },
   "outputs": [
    {
     "name": "stdout",
     "output_type": "stream",
     "text": [
      "20111002eng.txt\n"
     ]
    }
   ],
   "source": [
    "# See how we can get the document link. \n",
    "\n",
    "for i in detailCells:\n",
    "    try: \n",
    "        if \"doc\" in i.a['href']: #if the string \"doc\" is in the href link\n",
    "            print i.a['href'][12:-4] + \".txt\" #split and add to get the filename\n",
    "    \n",
    "    #\"if \"doc\" not in it, we can continue with the loop\n",
    "    except:\n",
    "        continue\n"
   ]
  },
  {
   "cell_type": "code",
   "execution_count": 7,
   "metadata": {
    "collapsed": false
   },
   "outputs": [
    {
     "data": {
      "text/plain": [
       "[u'2013-03-10 Come into unity with Christ',\n",
       " u'Pastor Wu',\n",
       " u'video',\n",
       " u'audio',\n",
       " u'John 6:52-58']"
      ]
     },
     "execution_count": 7,
     "metadata": {},
     "output_type": "execute_result"
    }
   ],
   "source": [
    "# Keep only the text in each of those cells\n",
    "rowData = [cell.text for cell in detailCells]\n",
    "rowData"
   ]
  },
  {
   "cell_type": "markdown",
   "metadata": {},
   "source": [
    "##Step 5. Scrape the Table!\n",
    "Now we can use the combination of a for loop and beautifulsoup tools in addition to basic python skills to scrape the entire table."
   ]
  },
  {
   "cell_type": "code",
   "execution_count": 13,
   "metadata": {
    "collapsed": false
   },
   "outputs": [],
   "source": [
    "# Create empty list to store our dictionaries\n",
    "sermonslist = []\n",
    "\n",
    "# returns every ‘tr tr tr’ css selector in the page\n",
    "rows = soup.select('tr')\n",
    "\n",
    "# loop through all rows\n",
    "for row in rows:\n",
    "    \n",
    "    #create an empty dictionary to store all table data\n",
    "    sermons = {}\n",
    "\n",
    "    # select only those 'td' tags with class 'detail'\n",
    "    detailCells = row.select('td')\n",
    "    \n",
    "    #for the 5-column tables:\n",
    "    \n",
    "    if len(detailCells) is 5: \n",
    "        \n",
    "        # Keep only the text in each of those cells\n",
    "        rowData = [cell.text for cell in detailCells]\n",
    "\n",
    "        # Collect information\n",
    "        sermons['Date'] = str(rowData[0])[0:10].encode(\"ascii\", \"ignore\")\n",
    "        sermons['Title'] = str(rowData[0])[11:].encode(\"ascii\", \"ignore\")\n",
    "        #dateandtitle = rowData[0]\n",
    "        sermons['Preacher'] = rowData[1].encode(\"ascii\", \"ignore\")\n",
    "        sermons['Scripture'] = rowData[4].encode(\"ascii\", \"ignore\")\n",
    "        \n",
    "        #Adding filename\n",
    "        #Note:\"audio\" and \"doc\" both show up in rowData[3], or third column \n",
    "        \n",
    "        #if the \"doc\" link is included in the 3rd column of row:\n",
    "        if \"doc\" in rowData[3]:\n",
    "            \n",
    "            #let's manipulate the text in 3rd column to get doc filename\n",
    "            filename = str(detailCells[3]).split(\"/\")[-3] \n",
    "            filename = filename.split('.')[0]\n",
    "            sermons['filename'] = filename\n",
    "        \n",
    "        #if the \"doc\" link doesn't exist, make NA\n",
    "        else: \n",
    "            filename = \"NA\"\n",
    "            sermons['filename'] = filename \n",
    "    \n",
    "    #for the 4-column tables:\n",
    "    elif len(detailCells) is 4: \n",
    "            \n",
    "        # Keep only the text in each of those cells\n",
    "        rowData = [cell.text for cell in detailCells]\n",
    "\n",
    "        # Collect information()\n",
    "        sermons['Date'] = str(rowData[0])[0:10].encode(\"ascii\", \"ignore\")\n",
    "        sermons['Title'] = str(rowData[0])[11:].encode(\"ascii\", \"ignore\")\n",
    "        sermons['Preacher'] = rowData[1].encode(\"ascii\", \"ignore\")\n",
    "        sermons['Scripture'] = rowData[3].encode(\"ascii\", \"ignore\")\n",
    "        \n",
    "        #there are no \"doc\" links in the 4-column tables\n",
    "        filename = 'NA'\n",
    "        sermons['filename'] = filename\n",
    "    \n",
    "    #append dictionaries to the empty list at the beginning\n",
    "    sermonslist.append(sermons)\n",
    "    \n",
    "#Getting rid of sentences with column names as values.\n",
    "sermonslist = [i for i in sermonslist if i.values()[0] != 'Date & Tit'] \n"
   ]
  },
  {
   "cell_type": "code",
   "execution_count": 30,
   "metadata": {
    "collapsed": false
   },
   "outputs": [
    {
     "data": {
      "text/plain": [
       "[{'Date': '2012-09-02',\n",
       "  'Preacher': 'Jessica Wang',\n",
       "  'Scripture': 'Prov. 4:23',\n",
       "  'Title': 'Decide in my Heart',\n",
       "  'filename': 'NA'},\n",
       " {'Date': '2012-08-26',\n",
       "  'Preacher': 'Pastor Wu',\n",
       "  'Scripture': 'John 2:18-25',\n",
       "  'Title': 'Destroy this temple, and I will raise it again in three days',\n",
       "  'filename': '20120826eng'},\n",
       " {'Date': '2012-08-19',\n",
       "  'Preacher': 'Gloria Li',\n",
       "  'Scripture': '2 Corinthians 5:17, Romans 12:1-2',\n",
       "  'Title': 'Becoming the Person God Wants You to be',\n",
       "  'filename': '20120819eng'},\n",
       " {'Date': '2012-08-12',\n",
       "  'Preacher': 'Pastor Wu',\n",
       "  'Scripture': 'John 2:1-11',\n",
       "  'Title': 'Do Whatever He Tells You',\n",
       "  'filename': 'NA'},\n",
       " {'Date': '2012-08-05',\n",
       "  'Preacher': 'Jessica Wang',\n",
       "  'Scripture': '1 Peter 4:8-10',\n",
       "  'Title': 'Loving & Serving each other',\n",
       "  'filename': '20120805eng'}]"
      ]
     },
     "execution_count": 30,
     "metadata": {},
     "output_type": "execute_result"
    }
   ],
   "source": [
    "#Check to see it worked!\n",
    "sermonslist[29:34]"
   ]
  },
  {
   "cell_type": "code",
   "execution_count": 34,
   "metadata": {
    "collapsed": false
   },
   "outputs": [
    {
     "data": {
      "text/plain": [
       "180"
      ]
     },
     "execution_count": 34,
     "metadata": {},
     "output_type": "execute_result"
    }
   ],
   "source": [
    "#Checking to see the data is clean\n",
    "sermonslist[0].values()[3] \n",
    "\n",
    "#How many sermons?\n",
    "len(sermonslist)"
   ]
  },
  {
   "cell_type": "markdown",
   "metadata": {},
   "source": [
    "##Step 6. Writing the CSV File."
   ]
  },
  {
   "cell_type": "code",
   "execution_count": 39,
   "metadata": {
    "collapsed": false
   },
   "outputs": [
    {
     "data": {
      "text/plain": [
       "['Date', 'Preacher', 'Title', 'Scripture', 'filename']"
      ]
     },
     "execution_count": 39,
     "metadata": {},
     "output_type": "execute_result"
    }
   ],
   "source": [
    "#Decide on keys for the csv\n",
    "keys = ['Date', 'Preacher', 'Title', 'Scripture','filename']\n",
    "keys"
   ]
  },
  {
   "cell_type": "code",
   "execution_count": 40,
   "metadata": {
    "collapsed": false
   },
   "outputs": [],
   "source": [
    "#Import Dictwriter from csv\n",
    "from csv import DictWriter\n",
    "\n",
    "#Write \"sermonslist\" into 'sermonsfull.csv' \n",
    "with open('sermonsfull.csv', 'wb') as output_file:\n",
    "    dict_writer = csv.DictWriter(output_file, keys)\n",
    "    dict_writer.writeheader()\n",
    "    dict_writer.writerows(sermonslist)"
   ]
  }
 ],
 "metadata": {
  "kernelspec": {
   "display_name": "Python 2",
   "language": "python",
   "name": "python2"
  },
  "language_info": {
   "codemirror_mode": {
    "name": "ipython",
    "version": 2
   },
   "file_extension": ".py",
   "mimetype": "text/x-python",
   "name": "python",
   "nbconvert_exporter": "python",
   "pygments_lexer": "ipython2",
   "version": "2.7.10"
  }
 },
 "nbformat": 4,
 "nbformat_minor": 0
}
