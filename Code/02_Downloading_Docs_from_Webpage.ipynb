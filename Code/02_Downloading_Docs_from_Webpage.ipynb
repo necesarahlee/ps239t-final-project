{
 "cells": [
  {
   "cell_type": "markdown",
   "metadata": {},
   "source": [
    "# Webscraping Links to Download Documents"
   ]
  },
  {
   "cell_type": "markdown",
   "metadata": {},
   "source": [
    "## The Task:\n",
    "In order to get the full sermon transcripts, I use BeautifulSoup and basic Python skills to get all links to documents. Then I turn these links into full urls. I use these full urls to download all document files from the webpage. "
   ]
  },
  {
   "cell_type": "markdown",
   "metadata": {},
   "source": [
    "## The Tools:\n",
    "\n",
    "1. [Requests](http://docs.python-requests.org/en/latest/user/quickstart/)\n",
    "2. [Beautiful Soup](http://www.crummy.com/software/BeautifulSoup/bs4/doc/)\n",
    "3. CSV package."
   ]
  },
  {
   "cell_type": "code",
   "execution_count": 2,
   "metadata": {
    "collapsed": false
   },
   "outputs": [],
   "source": [
    "# import required modules\n",
    "import requests\n",
    "import csv\n",
    "import urllib\n",
    "from bs4 import BeautifulSoup"
   ]
  },
  {
   "cell_type": "markdown",
   "metadata": {},
   "source": [
    "## Step 1: Make a Get Request and Read in HTML\n",
    "\n",
    "1. make a GET request to the page\n",
    "2. read in the html of the page\n",
    "3. get the full url links of all document links on the page. "
   ]
  },
  {
   "cell_type": "code",
   "execution_count": 3,
   "metadata": {
    "collapsed": false
   },
   "outputs": [],
   "source": [
    "# make a GET request\n",
    "req = requests.get('http://english.hdchurch.org/html/news/focus/2011/0429/196.html#2009')\n",
    "# read the content of the server’s response\n",
    "src = req.text"
   ]
  },
  {
   "cell_type": "markdown",
   "metadata": {},
   "source": [
    "Use the `BeautifulSoup` function to parse the reponse into an HTML tree, which returns all of the HTML in the original document."
   ]
  },
  {
   "cell_type": "code",
   "execution_count": 4,
   "metadata": {
    "collapsed": false
   },
   "outputs": [
    {
     "name": "stdout",
     "output_type": "stream",
     "text": [
      "<html>\n",
      " <body>\n",
      "  <p>\n",
      "   ï»¿\n",
      "   <!DOCTYPE html PUBLIC \"-//W3C//DTD XHTML 1.0 Transitional//EN\" \"http://www.w3.org/TR/xhtml1/DTD/xhtml1-transitional.dtd\">\n",
      "  </p>\n",
      "  <meta content=\"text/html; charset=utf-8\" http-equiv=\"Content-Type\"/>\n",
      "  <title>\n",
      "   Sort by Date: Sermon (media,ppt,transcription) for download - Haidian Christian Church\n",
      "  </title>\n",
      "  <meta content=\",\" name=\"keywords\"/>\n",
      "  <meta content=\"collection of Sermon (from 2009.10) Video Audio &amp; lyric PPT (by English Choir) for Download - Haidi\n"
     ]
    }
   ],
   "source": [
    "# parse the response into an HTML tree\n",
    "soup = BeautifulSoup(src)\n",
    "# take a look\n",
    "print soup.prettify()[:500]"
   ]
  },
  {
   "cell_type": "markdown",
   "metadata": {},
   "source": [
    "## Step 2. Locate All Document Links\n"
   ]
  },
  {
   "cell_type": "markdown",
   "metadata": {},
   "source": [
    "Make a list called \"docurl\" composed of all the href attributes which contain \".doc\""
   ]
  },
  {
   "cell_type": "code",
   "execution_count": 5,
   "metadata": {
    "collapsed": false
   },
   "outputs": [
    {
     "name": "stdout",
     "output_type": "stream",
     "text": [
      "['/video/2012/20121230eng.doc', '/video/2012/20121028eng.doc', '/video/2012/20121028eng.doc', '/video/2012/20120826eng.doc', '/video/2012/20120819eng.doc', '/video/2012/20120805eng.doc', '/video/2012/20120729eng.doc', '/video/2012/20120722eng.doc', '/video/2012/20120715eng.doc', '/video/2012/20120708eng.doc', '/video/2012/20120701eng.doc', '/video/2012/20120617eng.doc', '/video/2012/20120610eng.doc', '/video/2012/20120603eng.doc', '/video/2012/20120527eng.doc', '/video/2012/20120520eng.doc', '/video/2012/20120513eng.doc', '/video/2012/20120506eng.doc', '/video/2012/20120429eng.doc', '/video/2012/20120422eng.doc', '/video/2012/20120415eng.doc', '/video/2012/20120408eng.doc', '/video/2012/20120401eng.doc', '/video/2012/20120325eng.doc', '/video/2012/20120318eng.doc', '/video/2012/20120311eng.doc', '/video/2012/201201304eng.doc', '/video/2012/20120226eng.doc', '/video/2012/20120219eng.doc', '/video/2012/20120212eng.doc', '/video/2012/20120205eng.doc', '/video/2012/20120122-DoWeReallyUnderstandGodLove.doc', '/video/2012/20120108eng.doc', '/video/2012/20120101eng.doc', '/video/2011/20111218eng.doc', '/video/2011/20111204eng.doc', '/video/2011/20111127eng.doc', '/video/2011/20111113eng.doc', '/video/2011/20111106eng.doc', '/video/2011/20111030eng.doc', '/video/2011/20111023eng.doc', '/video/2011/20111016eng.doc', '/video/2011/20111009eng.doc', '/video/2011/20111002eng.doc', '/video/2011/20110925eng.doc', '/video/2011/20110918eng.doc', '/video/2011/20110911eng.doc', '/video/2011/20110904eng.doc', '/video/2011/20110828eng.doc', '/video/2011/20110821-TheWorkOfTheHolySpirit-LarryLiu.doc', '/video/2011/20110814eng.doc', '/video/2011/20110807-FruitForMyFather-Stephen.doc', '/video/2011/20110731eng.doc']\n"
     ]
    }
   ],
   "source": [
    "\n",
    "#Create an empty list\n",
    "docurl = []\n",
    "\n",
    "for link in soup('a'):     #within all \"a\" elements\n",
    "    if \"doc\" in link:        #find only links with \".doc\"\n",
    "        docurl.append(link['href']) #append only the urls to list.\n",
    "\n",
    "print docurl\n",
    "\n"
   ]
  },
  {
   "cell_type": "markdown",
   "metadata": {},
   "source": [
    "##Step 3. Prepare to Download Files"
   ]
  },
  {
   "cell_type": "markdown",
   "metadata": {},
   "source": [
    "We create a list of filenames. After we download the documents, these will be the filenames."
   ]
  },
  {
   "cell_type": "code",
   "execution_count": 7,
   "metadata": {
    "collapsed": false
   },
   "outputs": [
    {
     "data": {
      "text/plain": [
       "['20121230eng.doc',\n",
       " '20121028eng.doc',\n",
       " '20121028eng.doc',\n",
       " '20120826eng.doc',\n",
       " '20120819eng.doc',\n",
       " '20120805eng.doc',\n",
       " '20120729eng.doc',\n",
       " '20120722eng.doc',\n",
       " '20120715eng.doc',\n",
       " '20120708eng.doc',\n",
       " '20120701eng.doc',\n",
       " '20120617eng.doc',\n",
       " '20120610eng.doc',\n",
       " '20120603eng.doc',\n",
       " '20120527eng.doc',\n",
       " '20120520eng.doc',\n",
       " '20120513eng.doc',\n",
       " '20120506eng.doc',\n",
       " '20120429eng.doc',\n",
       " '20120422eng.doc',\n",
       " '20120415eng.doc',\n",
       " '20120408eng.doc',\n",
       " '20120401eng.doc',\n",
       " '20120325eng.doc',\n",
       " '20120318eng.doc',\n",
       " '20120311eng.doc',\n",
       " '201201304eng.doc',\n",
       " '20120226eng.doc',\n",
       " '20120219eng.doc',\n",
       " '20120212eng.doc',\n",
       " '20120205eng.doc',\n",
       " '20120122-DoWeReallyUnderstandGodLove.doc',\n",
       " '20120108eng.doc',\n",
       " '20120101eng.doc',\n",
       " '20111218eng.doc',\n",
       " '20111204eng.doc',\n",
       " '20111127eng.doc',\n",
       " '20111113eng.doc',\n",
       " '20111106eng.doc',\n",
       " '20111030eng.doc',\n",
       " '20111023eng.doc',\n",
       " '20111016eng.doc',\n",
       " '20111009eng.doc',\n",
       " '20111002eng.doc',\n",
       " '20110925eng.doc',\n",
       " '20110918eng.doc',\n",
       " '20110911eng.doc',\n",
       " '20110904eng.doc',\n",
       " '20110828eng.doc',\n",
       " '20110821-TheWorkOfTheHolySpirit-LarryLiu.doc',\n",
       " '20110814eng.doc',\n",
       " '20110807-FruitForMyFather-Stephen.doc',\n",
       " '20110731eng.doc']"
      ]
     },
     "execution_count": 7,
     "metadata": {},
     "output_type": "execute_result"
    }
   ],
   "source": [
    "#create an empty list\n",
    "filenames = [] \n",
    "\n",
    "#create a for loop that goes through the list created above\n",
    "\n",
    "for i in range(len(docurl)):   \n",
    "    filenames.append(docurl[i][12:])   #only grab the last part of link\n",
    "filenames"
   ]
  },
  {
   "cell_type": "markdown",
   "metadata": {},
   "source": [
    "We also want a list with full links to the document in order to download all of them. We can do so by adding the front portion \"http://english.hdchurch.org\" to the 'docurl' list we made at the beginning."
   ]
  },
  {
   "cell_type": "code",
   "execution_count": 8,
   "metadata": {
    "collapsed": false
   },
   "outputs": [
    {
     "data": {
      "text/plain": [
       "['http://english.hdchurch.org/video/2012/20121230eng.doc',\n",
       " 'http://english.hdchurch.org/video/2012/20121028eng.doc',\n",
       " 'http://english.hdchurch.org/video/2012/20121028eng.doc',\n",
       " 'http://english.hdchurch.org/video/2012/20120826eng.doc',\n",
       " 'http://english.hdchurch.org/video/2012/20120819eng.doc',\n",
       " 'http://english.hdchurch.org/video/2012/20120805eng.doc',\n",
       " 'http://english.hdchurch.org/video/2012/20120729eng.doc',\n",
       " 'http://english.hdchurch.org/video/2012/20120722eng.doc',\n",
       " 'http://english.hdchurch.org/video/2012/20120715eng.doc',\n",
       " 'http://english.hdchurch.org/video/2012/20120708eng.doc',\n",
       " 'http://english.hdchurch.org/video/2012/20120701eng.doc',\n",
       " 'http://english.hdchurch.org/video/2012/20120617eng.doc',\n",
       " 'http://english.hdchurch.org/video/2012/20120610eng.doc',\n",
       " 'http://english.hdchurch.org/video/2012/20120603eng.doc',\n",
       " 'http://english.hdchurch.org/video/2012/20120527eng.doc',\n",
       " 'http://english.hdchurch.org/video/2012/20120520eng.doc',\n",
       " 'http://english.hdchurch.org/video/2012/20120513eng.doc',\n",
       " 'http://english.hdchurch.org/video/2012/20120506eng.doc',\n",
       " 'http://english.hdchurch.org/video/2012/20120429eng.doc',\n",
       " 'http://english.hdchurch.org/video/2012/20120422eng.doc',\n",
       " 'http://english.hdchurch.org/video/2012/20120415eng.doc',\n",
       " 'http://english.hdchurch.org/video/2012/20120408eng.doc',\n",
       " 'http://english.hdchurch.org/video/2012/20120401eng.doc',\n",
       " 'http://english.hdchurch.org/video/2012/20120325eng.doc',\n",
       " 'http://english.hdchurch.org/video/2012/20120318eng.doc',\n",
       " 'http://english.hdchurch.org/video/2012/20120311eng.doc',\n",
       " 'http://english.hdchurch.org/video/2012/201201304eng.doc',\n",
       " 'http://english.hdchurch.org/video/2012/20120226eng.doc',\n",
       " 'http://english.hdchurch.org/video/2012/20120219eng.doc',\n",
       " 'http://english.hdchurch.org/video/2012/20120212eng.doc',\n",
       " 'http://english.hdchurch.org/video/2012/20120205eng.doc',\n",
       " 'http://english.hdchurch.org/video/2012/20120122-DoWeReallyUnderstandGodLove.doc',\n",
       " 'http://english.hdchurch.org/video/2012/20120108eng.doc',\n",
       " 'http://english.hdchurch.org/video/2012/20120101eng.doc',\n",
       " 'http://english.hdchurch.org/video/2011/20111218eng.doc',\n",
       " 'http://english.hdchurch.org/video/2011/20111204eng.doc',\n",
       " 'http://english.hdchurch.org/video/2011/20111127eng.doc',\n",
       " 'http://english.hdchurch.org/video/2011/20111113eng.doc',\n",
       " 'http://english.hdchurch.org/video/2011/20111106eng.doc',\n",
       " 'http://english.hdchurch.org/video/2011/20111030eng.doc',\n",
       " 'http://english.hdchurch.org/video/2011/20111023eng.doc',\n",
       " 'http://english.hdchurch.org/video/2011/20111016eng.doc',\n",
       " 'http://english.hdchurch.org/video/2011/20111009eng.doc',\n",
       " 'http://english.hdchurch.org/video/2011/20111002eng.doc',\n",
       " 'http://english.hdchurch.org/video/2011/20110925eng.doc',\n",
       " 'http://english.hdchurch.org/video/2011/20110918eng.doc',\n",
       " 'http://english.hdchurch.org/video/2011/20110911eng.doc',\n",
       " 'http://english.hdchurch.org/video/2011/20110904eng.doc',\n",
       " 'http://english.hdchurch.org/video/2011/20110828eng.doc',\n",
       " 'http://english.hdchurch.org/video/2011/20110821-TheWorkOfTheHolySpirit-LarryLiu.doc',\n",
       " 'http://english.hdchurch.org/video/2011/20110814eng.doc',\n",
       " 'http://english.hdchurch.org/video/2011/20110807-FruitForMyFather-Stephen.doc',\n",
       " 'http://english.hdchurch.org/video/2011/20110731eng.doc']"
      ]
     },
     "execution_count": 8,
     "metadata": {},
     "output_type": "execute_result"
    }
   ],
   "source": [
    "#Create an empty list\n",
    "fullurl = []\n",
    "\n",
    "#For every url in the list 'docurl'\n",
    "for url in docurl:\n",
    "    url = \"http://english.hdchurch.org\" + url #add the front portion\n",
    "    fullurl.append(url) #then append it to the 'fullurl' list.\n",
    "\n",
    "fullurl"
   ]
  },
  {
   "cell_type": "markdown",
   "metadata": {},
   "source": [
    "## Step 4. Downloading Documents"
   ]
  },
  {
   "cell_type": "markdown",
   "metadata": {},
   "source": [
    "We first test download a single document to check it works. Then we go on to download all files from the 'fullurl' list. "
   ]
  },
  {
   "cell_type": "code",
   "execution_count": 51,
   "metadata": {
    "collapsed": false
   },
   "outputs": [
    {
     "data": {
      "text/plain": [
       "('20110731eng.doc', <httplib.HTTPMessage instance at 0x107f04b00>)"
      ]
     },
     "execution_count": 51,
     "metadata": {},
     "output_type": "execute_result"
    }
   ],
   "source": [
    "#Download a test file to see it works\n",
    "\n",
    "testfile = urllib.URLopener()\n",
    "testfile.retrieve(\"http://english.hdchurch.org/video/2011/20110731eng.doc\", \"20110731eng.doc\")\n"
   ]
  },
  {
   "cell_type": "code",
   "execution_count": 43,
   "metadata": {
    "collapsed": false
   },
   "outputs": [
    {
     "name": "stdout",
     "output_type": "stream",
     "text": [
      "http://english.hdchurch.org/video/2012/20121230eng.doc\n",
      "http://english.hdchurch.org/video/2012/20121028eng.doc\n",
      "http://english.hdchurch.org/video/2012/20121028eng.doc\n",
      "http://english.hdchurch.org/video/2012/20120826eng.doc\n",
      "http://english.hdchurch.org/video/2012/20120819eng.doc\n",
      "http://english.hdchurch.org/video/2012/20120805eng.doc\n",
      "http://english.hdchurch.org/video/2012/20120729eng.doc\n",
      "http://english.hdchurch.org/video/2012/20120722eng.doc\n",
      "http://english.hdchurch.org/video/2012/20120715eng.doc\n",
      "http://english.hdchurch.org/video/2012/20120708eng.doc\n",
      "http://english.hdchurch.org/video/2012/20120701eng.doc\n",
      "http://english.hdchurch.org/video/2012/20120617eng.doc\n",
      "http://english.hdchurch.org/video/2012/20120610eng.doc\n",
      "http://english.hdchurch.org/video/2012/20120603eng.doc\n",
      "http://english.hdchurch.org/video/2012/20120527eng.doc\n",
      "http://english.hdchurch.org/video/2012/20120520eng.doc\n",
      "http://english.hdchurch.org/video/2012/20120513eng.doc\n",
      "http://english.hdchurch.org/video/2012/20120506eng.doc\n",
      "http://english.hdchurch.org/video/2012/20120429eng.doc\n",
      "http://english.hdchurch.org/video/2012/20120422eng.doc\n",
      "http://english.hdchurch.org/video/2012/20120415eng.doc\n",
      "http://english.hdchurch.org/video/2012/20120408eng.doc\n",
      "http://english.hdchurch.org/video/2012/20120401eng.doc\n",
      "http://english.hdchurch.org/video/2012/20120325eng.doc\n",
      "http://english.hdchurch.org/video/2012/20120318eng.doc\n",
      "http://english.hdchurch.org/video/2012/20120311eng.doc\n",
      "http://english.hdchurch.org/video/2012/201201304eng.doc\n",
      "http://english.hdchurch.org/video/2012/20120226eng.doc\n",
      "http://english.hdchurch.org/video/2012/20120219eng.doc\n",
      "http://english.hdchurch.org/video/2012/20120212eng.doc\n",
      "http://english.hdchurch.org/video/2012/20120205eng.doc\n",
      "http://english.hdchurch.org/video/2012/20120122-DoWeReallyUnderstandGodLove.doc\n",
      "http://english.hdchurch.org/video/2012/20120108eng.doc\n",
      "http://english.hdchurch.org/video/2012/20120101eng.doc\n",
      "http://english.hdchurch.org/video/2011/20111218eng.doc\n",
      "http://english.hdchurch.org/video/2011/20111204eng.doc\n",
      "http://english.hdchurch.org/video/2011/20111127eng.doc\n",
      "http://english.hdchurch.org/video/2011/20111113eng.doc\n",
      "http://english.hdchurch.org/video/2011/20111106eng.doc\n",
      "http://english.hdchurch.org/video/2011/20111030eng.doc\n",
      "http://english.hdchurch.org/video/2011/20111023eng.doc\n",
      "http://english.hdchurch.org/video/2011/20111016eng.doc\n",
      "http://english.hdchurch.org/video/2011/20111009eng.doc\n",
      "http://english.hdchurch.org/video/2011/20111002eng.doc\n",
      "http://english.hdchurch.org/video/2011/20110925eng.doc\n",
      "http://english.hdchurch.org/video/2011/20110918eng.doc\n",
      "http://english.hdchurch.org/video/2011/20110911eng.doc\n",
      "http://english.hdchurch.org/video/2011/20110904eng.doc\n",
      "http://english.hdchurch.org/video/2011/20110828eng.doc\n",
      "http://english.hdchurch.org/video/2011/20110821-TheWorkOfTheHolySpirit-LarryLiu.doc\n",
      "http://english.hdchurch.org/video/2011/20110814eng.doc\n",
      "http://english.hdchurch.org/video/2011/20110807-FruitForMyFather-Stephen.doc\n",
      "http://english.hdchurch.org/video/2011/20110731eng.doc\n"
     ]
    }
   ],
   "source": [
    "#Download all documents\n",
    "#with fullurl and filenames\n",
    "\n",
    "#To be able to see which urls did not work\n",
    "bad_urls = []\n",
    "\n",
    "#create a loop to go through the fullurl list\n",
    "for i, url in enumerate(fullurl):  \n",
    "    print url     #to see which url is being processed\n",
    "    try:\n",
    "        testfile = urllib.URLopener()\n",
    "        testfile.retrieve(url, filenames[i]) #the filenames from above!\n",
    "    \n",
    "    #if not, add to the bad_urls list\n",
    "    except:\n",
    "        bad_urls.append(url)\n"
   ]
  },
  {
   "cell_type": "markdown",
   "metadata": {},
   "source": [
    "##Downloads Complete! Go Check the Folder.  "
   ]
  },
  {
   "cell_type": "code",
   "execution_count": null,
   "metadata": {
    "collapsed": true
   },
   "outputs": [],
   "source": []
  }
 ],
 "metadata": {
  "kernelspec": {
   "display_name": "Python 2",
   "language": "python",
   "name": "python2"
  },
  "language_info": {
   "codemirror_mode": {
    "name": "ipython",
    "version": 2
   },
   "file_extension": ".py",
   "mimetype": "text/x-python",
   "name": "python",
   "nbconvert_exporter": "python",
   "pygments_lexer": "ipython2",
   "version": "2.7.10"
  }
 },
 "nbformat": 4,
 "nbformat_minor": 0
}
